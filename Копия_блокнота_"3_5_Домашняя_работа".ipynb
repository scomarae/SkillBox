{
  "nbformat": 4,
  "nbformat_minor": 0,
  "metadata": {
    "kernelspec": {
      "display_name": "Python 3",
      "language": "python",
      "name": "python3"
    },
    "language_info": {
      "codemirror_mode": {
        "name": "ipython",
        "version": 3
      },
      "file_extension": ".py",
      "mimetype": "text/x-python",
      "name": "python",
      "nbconvert_exporter": "python",
      "pygments_lexer": "ipython3",
      "version": "3.6.3"
    },
    "colab": {
      "provenance": [],
      "include_colab_link": true
    }
  },
  "cells": [
    {
      "cell_type": "markdown",
      "metadata": {
        "id": "view-in-github",
        "colab_type": "text"
      },
      "source": [
        "<a href=\"https://colab.research.google.com/github/scomarae/SkillBox/blob/main/%D0%9A%D0%BE%D0%BF%D0%B8%D1%8F_%D0%B1%D0%BB%D0%BE%D0%BA%D0%BD%D0%BE%D1%82%D0%B0_%223_5_%D0%94%D0%BE%D0%BC%D0%B0%D1%88%D0%BD%D1%8F%D1%8F_%D1%80%D0%B0%D0%B1%D0%BE%D1%82%D0%B0%22.ipynb\" target=\"_parent\"><img src=\"https://colab.research.google.com/assets/colab-badge.svg\" alt=\"Open In Colab\"/></a>"
      ]
    },
    {
      "cell_type": "markdown",
      "metadata": {
        "id": "WAyRDni_6GHU"
      },
      "source": [
        "### Урок 5. Домашняя работа\n",
        "\n",
        "Есть два набора точек - *x_hw* и *y_hw*. В рамках домашней работы нужно\n",
        "* визуализировать набор точек\n",
        "* найти коэффициенты регрессии $w_0, w_1$ по шагам, как в уроке\n",
        "* посчитать предсказание в виде $\\hat{y} = w_0 + w_1x$ и визуализировать его вместе с точками *x_hw* и *y_hw*"
      ]
    },
    {
      "cell_type": "code",
      "metadata": {
        "id": "74wa1k6p6GHf"
      },
      "source": [
        "x_hw = [50, 60, 70, 100]\n",
        "y_hw = [10, 15, 40, 45]"
      ],
      "execution_count": 1,
      "outputs": []
    },
    {
      "cell_type": "markdown",
      "source": [
        "Визуализация набора точек"
      ],
      "metadata": {
        "id": "cKJ7u_MgPk4C"
      }
    },
    {
      "cell_type": "code",
      "source": [
        "from matplotlib import pyplot as plt\n",
        "\n",
        "%matplotlib inline\n",
        "\n",
        "plt.scatter(x_hw, y_hw, 40, 'g', 'o', alpha=0.8)\n",
        "plt.show()"
      ],
      "metadata": {
        "colab": {
          "base_uri": "https://localhost:8080/",
          "height": 430
        },
        "id": "U9ywzuouGubj",
        "outputId": "d0eab90f-2c59-4931-e3b8-1f03623095bc"
      },
      "execution_count": 2,
      "outputs": [
        {
          "output_type": "display_data",
          "data": {
            "text/plain": [
              "<Figure size 640x480 with 1 Axes>"
            ],
            "image/png": "[encoded data removed]"
          },
          "metadata": {}
        }
      ]
    },
    {
      "cell_type": "markdown",
      "source": [
        "Матрица X"
      ],
      "metadata": {
        "id": "LiMGi3GvPpJE"
      }
    },
    {
      "cell_type": "code",
      "source": [
        "import numpy as np\n",
        "\n",
        "X = np.array([[1, 50],[1, 60],[1, 70],[1, 100]])\n",
        "\n",
        "X"
      ],
      "metadata": {
        "colab": {
          "base_uri": "https://localhost:8080/"
        },
        "id": "JKsDr8-AGzjq",
        "outputId": "75a09b69-5cf3-4bb5-ff05-2a9fcf9a5cf3"
      },
      "execution_count": 5,
      "outputs": [
        {
          "output_type": "execute_result",
          "data": {
            "text/plain": [
              "array([[  1,  50],\n",
              "       [  1,  60],\n",
              "       [  1,  70],\n",
              "       [  1, 100]])"
            ]
          },
          "metadata": {},
          "execution_count": 5
        }
      ]
    },
    {
      "cell_type": "markdown",
      "source": [
        "Вектор Y"
      ],
      "metadata": {
        "id": "bO4dTyhrPv4-"
      }
    },
    {
      "cell_type": "code",
      "source": [
        "Y = np.array([[10],[15],[40],[45]])\n",
        "\n",
        "Y"
      ],
      "metadata": {
        "colab": {
          "base_uri": "https://localhost:8080/"
        },
        "id": "OvcYiHURJwtj",
        "outputId": "2aed70b8-84ec-4981-e124-1b29b9762b9a"
      },
      "execution_count": 6,
      "outputs": [
        {
          "output_type": "execute_result",
          "data": {
            "text/plain": [
              "array([[10],\n",
              "       [15],\n",
              "       [40],\n",
              "       [45]])"
            ]
          },
          "metadata": {},
          "execution_count": 6
        }
      ]
    },
    {
      "cell_type": "markdown",
      "source": [
        "$$\n",
        "\\left(X^TX\\right)^{-1}X^TY\n",
        "$$"
      ],
      "metadata": {
        "id": "B84L8oUFP1CB"
      }
    },
    {
      "cell_type": "code",
      "source": [
        "from numpy.linalg import inv\n",
        "\n",
        "X_T_X = (X.T).dot(X)\n",
        "\n",
        "X_T_X_inverted = inv(X_T_X)\n",
        "\n",
        "X_T_X_inverted\n",
        "\n",
        "w = X_T_X_inverted.dot(X.T).dot(Y)\n",
        "\n",
        "print(\"w_0=%.5f, w_1=%.3f\" % (w[0][0],w[1][0]))"
      ],
      "metadata": {
        "colab": {
          "base_uri": "https://localhost:8080/"
        },
        "id": "phbZaqUsMYQD",
        "outputId": "30307a8b-4a61-482e-a9a1-359e0ac4a058"
      },
      "execution_count": 13,
      "outputs": [
        {
          "output_type": "stream",
          "name": "stdout",
          "text": [
            "w_0=-22.50000, w_1=0.714\n"
          ]
        }
      ]
    },
    {
      "cell_type": "markdown",
      "source": [],
      "metadata": {
        "id": "q1R6yfdfQ45F"
      }
    },
    {
      "cell_type": "code",
      "source": [
        "from matplotlib import pyplot as plt\n",
        "import numpy as np\n",
        "\n",
        "%matplotlib inline\n",
        "\n",
        "\n",
        "margin = 10\n",
        "X_min = 20\n",
        "X_max = X[:,1].max()+margin\n",
        "\n",
        "\n",
        "X_support = np.linspace(X_min, X_max, num=100)\n",
        "\n",
        "Y_model = w[0][0] + w[1][0]*X_support"
      ],
      "metadata": {
        "id": "dlRdlpA7MfTO"
      },
      "execution_count": 14,
      "outputs": []
    },
    {
      "cell_type": "code",
      "source": [
        "plt.xlim(X_min, X_max)\n",
        "plt.ylim(0, Y[:,0].max() + margin)\n",
        "\n",
        "plt.scatter(X[:,1], Y[:,0], 40, 'g', 'o', alpha=0.8)\n",
        "\n",
        "plt.plot(X_support, Y_model)\n",
        "\n",
        "plt.show()"
      ],
      "metadata": {
        "colab": {
          "base_uri": "https://localhost:8080/",
          "height": 430
        },
        "id": "9zxs16KDQ7tW",
        "outputId": "a35dfdf0-4e8b-41c5-c95c-61bfee4c6464"
      },
      "execution_count": 15,
      "outputs": [
        {
          "output_type": "display_data",
          "data": {
            "text/plain": [
              "<Figure size 640x480 with 1 Axes>"
            ],
            "image/png": "[encoded data removed]"
          },
          "metadata": {}
        }
      ]
    },
    {
      "cell_type": "code",
      "source": [],
      "metadata": {
        "id": "YcxlwTgUQ_te"
      },
      "execution_count": null,
      "outputs": []
    }
  ]
}