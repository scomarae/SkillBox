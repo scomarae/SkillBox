{
  "nbformat": 4,
  "nbformat_minor": 0,
  "metadata": {
    "colab": {
      "provenance": [],
      "include_colab_link": true
    },
    "kernelspec": {
      "display_name": "Python 3",
      "language": "python",
      "name": "python3"
    },
    "language_info": {
      "codemirror_mode": {
        "name": "ipython",
        "version": 3
      },
      "file_extension": ".py",
      "mimetype": "text/x-python",
      "name": "python",
      "nbconvert_exporter": "python",
      "pygments_lexer": "ipython3",
      "version": "3.6.3"
    }
  },
  "cells": [
    {
      "cell_type": "markdown",
      "metadata": {
        "id": "view-in-github",
        "colab_type": "text"
      },
      "source": [
        "<a href=\"https://colab.research.google.com/github/scomarae/SkillBox/blob/main/%D0%9A%D0%BE%D0%BF%D0%B8%D1%8F_%D0%B1%D0%BB%D0%BE%D0%BA%D0%BD%D0%BE%D1%82%D0%B0_%223_9_%D0%94%D0%BE%D0%BC%D0%B0%D1%88%D0%BD%D1%8F%D1%8F_%D1%80%D0%B0%D0%B1%D0%BE%D1%82%D0%B0%22.ipynb\" target=\"_parent\"><img src=\"https://colab.research.google.com/assets/colab-badge.svg\" alt=\"Open In Colab\"/></a>"
      ]
    },
    {
      "cell_type": "markdown",
      "metadata": {
        "id": "9zmQCpvzzeTK"
      },
      "source": [
        "### Домашняя работа\n",
        "\n",
        "Даны точки $x$ и значения в этих точках $y$. Нормализуйте $y$ с помощью *z-score* и постройте график зависимости нормализованных значений от $x$. Для графика используйте `.scatter(x,y_tansformed)`"
      ]
    },
    {
      "cell_type": "code",
      "metadata": {
        "id": "O8W9tZnFzeTL",
        "outputId": "82aef61e-4a93-4393-b42b-b1ec9046e8e6",
        "colab": {
          "base_uri": "https://localhost:8080/",
          "height": 430
        }
      },
      "source": [
        "import numpy as np\n",
        "from sklearn.preprocessing import StandardScaler\n",
        "from matplotlib import pyplot as plt\n",
        "\n",
        "x = np.linspace(1,10,num=10)\n",
        "y = np.array(\n",
        "    [1.,  3.,  4.,  2., 10.,  5.,  5.,  2.,  5., 10.],\n",
        "    dtype=np.float32\n",
        ")\n",
        "\n",
        "plt.scatter(x, y)\n",
        "plt.show()"
      ],
      "execution_count": 11,
      "outputs": [
        {
          "output_type": "display_data",
          "data": {
            "text/plain": [
              "<Figure size 640x480 with 1 Axes>"
            ],
            "image/png": "[encoded data removed]"
          },
          "metadata": {}
        }
      ]
    },
    {
      "cell_type": "markdown",
      "source": [
        "Проверяем среднеквадратичную ошибку:"
      ],
      "metadata": {
        "id": "w9vJSJvLULhb"
      }
    },
    {
      "cell_type": "code",
      "source": [
        "from sklearn.linear_model import LinearRegression\n",
        "from sklearn.metrics import r2_score, mean_squared_error\n",
        "\n",
        "reg = LinearRegression().fit(x.reshape(-1, 1), y)\n",
        "y_pred = reg.predict(x.reshape(-1, 1))\n",
        "\n",
        "print(mean_squared_error(y, y_pred))"
      ],
      "metadata": {
        "colab": {
          "base_uri": "https://localhost:8080/"
        },
        "id": "yXml5PVjTmk8",
        "outputId": "2546ae2f-b724-4382-8889-e56dc4ba8f4a"
      },
      "execution_count": 13,
      "outputs": [
        {
          "output_type": "stream",
          "name": "stdout",
          "text": [
            "6.409696969696969\n"
          ]
        }
      ]
    },
    {
      "cell_type": "code",
      "source": [
        "scaler = StandardScaler()"
      ],
      "metadata": {
        "id": "943mRvV1TnNh"
      },
      "execution_count": 14,
      "outputs": []
    },
    {
      "cell_type": "markdown",
      "source": [
        "Трансформируем данные:"
      ],
      "metadata": {
        "id": "cGaor3rphnsw"
      }
    },
    {
      "cell_type": "code",
      "source": [
        "y_transformed = scaler.fit_transform(y.reshape(-1, 1)).reshape(-1)\n",
        "y_transformed"
      ],
      "metadata": {
        "colab": {
          "base_uri": "https://localhost:8080/"
        },
        "id": "jhJvixlLhEhr",
        "outputId": "b20d550e-c857-4663-c564-770ee2b09327"
      },
      "execution_count": 20,
      "outputs": [
        {
          "output_type": "execute_result",
          "data": {
            "text/plain": [
              "array([-1.2465616 , -0.57274455, -0.23583598, -0.9096531 ,  1.7856154 ,\n",
              "        0.10107257,  0.10107257, -0.9096531 ,  0.10107257,  1.7856154 ],\n",
              "      dtype=float32)"
            ]
          },
          "metadata": {},
          "execution_count": 20
        }
      ]
    },
    {
      "cell_type": "code",
      "source": [
        "plt.scatter(x, y_transformed)\n",
        "plt.show()"
      ],
      "metadata": {
        "colab": {
          "base_uri": "https://localhost:8080/",
          "height": 430
        },
        "id": "2yT4fxMqhWQq",
        "outputId": "e7fa0f7d-6e8a-4e76-fec9-584ac89ef6ef"
      },
      "execution_count": 21,
      "outputs": [
        {
          "output_type": "display_data",
          "data": {
            "text/plain": [
              "<Figure size 640x480 with 1 Axes>"
            ],
            "image/png": "[encoded data removed]"
          },
          "metadata": {}
        }
      ]
    },
    {
      "cell_type": "markdown",
      "source": [
        "График получился такой же, изменился только масштаб.\n",
        "\n",
        "Проверим MSE:"
      ],
      "metadata": {
        "id": "hUYZZ9Ukhwci"
      }
    },
    {
      "cell_type": "code",
      "source": [
        "reg = LinearRegression().fit(x.reshape(-1, 1), y_transformed)\n",
        "\n",
        "y_pred = reg.predict(x.reshape(-1, 1))\n",
        "\n",
        "print(mean_squared_error(y_transformed, y_pred))"
      ],
      "metadata": {
        "colab": {
          "base_uri": "https://localhost:8080/"
        },
        "id": "cPdPzrJuhtzB",
        "outputId": "fd8be5f8-e95b-44b5-9fe6-0bbdf76a0f5b"
      },
      "execution_count": 26,
      "outputs": [
        {
          "output_type": "stream",
          "name": "stdout",
          "text": [
            "0.7275479425594413\n"
          ]
        }
      ]
    },
    {
      "cell_type": "markdown",
      "source": [
        "MSE заметно уменьшилась."
      ],
      "metadata": {
        "id": "EoSNNFC5h0P7"
      }
    }
  ]
}