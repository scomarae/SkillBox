{
  "nbformat": 4,
  "nbformat_minor": 0,
  "metadata": {
    "colab": {
      "provenance": [],
      "include_colab_link": true
    },
    "language_info": {
      "codemirror_mode": {
        "name": "ipython",
        "version": 3
      },
      "file_extension": ".py",
      "mimetype": "text/x-python",
      "name": "python",
      "nbconvert_exporter": "python",
      "pygments_lexer": "ipython3",
      "version": "3.6.3"
    },
    "kernelspec": {
      "display_name": "Python 3",
      "language": "python",
      "name": "python3"
    }
  },
  "cells": [
    {
      "cell_type": "markdown",
      "metadata": {
        "id": "view-in-github",
        "colab_type": "text"
      },
      "source": [
        "<a href=\"https://colab.research.google.com/github/scomarae/SkillBox/blob/main/jun_anl_numpy1_hw.ipynb\" target=\"_parent\"><img src=\"https://colab.research.google.com/assets/colab-badge.svg\" alt=\"Open In Colab\"/></a>"
      ]
    },
    {
      "cell_type": "markdown",
      "metadata": {
        "id": "KkW9XLpDgFAF"
      },
      "source": [
        "# Библиотека `NumPy`: часть 1\n",
        "\n",
        "*Алла Тамбовцева*\n",
        "\n",
        "## Домашнее задание\n",
        "\n",
        "### Описание домашнего задания и формат сдачи\n",
        "\n",
        "В домашнем задании необходимо решить предложенные задачи по программированию – вписать свой код в ячейки после условий задач вместо комментария `### YOUR CODE HERE ###` в файле *homework-numpy1.ipynb* и сохранить изменения, используя опцию *Save and Checkpoint* из вкладки меню *File* или кнопку *Save and Checkpoint* на панели инструментов. Итоговый файл в формате `.ipynb` (файл Jupyter Notebook) необходимо загрузить в личный кабинет обучающей онлайн платформы Skillbox (https://go.skillbox.ru/) и отправить на проверку."
      ]
    },
    {
      "cell_type": "markdown",
      "metadata": {
        "id": "HWyKtbvPgFAF"
      },
      "source": [
        "Дан массив, содержащий баллы слушателей курса по английскому языку за вступительный экзамен. Слушатели распределены по 15 группам по 10 человек."
      ]
    },
    {
      "cell_type": "code",
      "metadata": {
        "id": "XViQYLNHgFAG"
      },
      "source": [
        "import numpy as np\n",
        "scores = np.array([[20, 40, 56, 80, 0, 5, 25, 27, 74, 1],\n",
        "         [0, 98, 67, 100, 8, 56, 34, 82, 100, 7],\n",
        "         [78, 54, 23, 79, 100, 0, 0, 42, 95, 83],\n",
        "         [51, 50, 47, 23, 100, 94, 25, 48, 38, 77],\n",
        "         [90, 87, 41, 89, 52, 0, 5, 17, 28, 99],\n",
        "         [32, 18, 21, 18, 29, 31, 48, 62, 76, 22],\n",
        "         [6, 0, 65, 78, 43, 22, 38, 88, 94, 100],\n",
        "         [77, 28, 39, 41, 0, 81, 45, 54, 98, 12],\n",
        "         [66, 0, 88, 0, 44, 0, 55, 100, 12, 11],\n",
        "         [17, 70, 86, 96, 56, 23, 32, 49, 70, 80],\n",
        "         [20, 24, 76, 50, 29, 40, 3, 2, 5, 11],\n",
        "         [33, 63, 28, 40, 51, 100, 98, 87, 22, 30],\n",
        "         [16, 54, 78, 12, 25, 35, 10, 19, 67, 0],\n",
        "         [100, 88, 24, 33, 47, 56, 62, 34, 77, 53],\n",
        "         [50, 89, 70, 72, 56, 29, 15, 20, 0, 0]])"
      ],
      "execution_count": 3,
      "outputs": []
    },
    {
      "cell_type": "markdown",
      "metadata": {
        "id": "FZyP6_u4gFAI"
      },
      "source": [
        "### Задание 1\n",
        "\n",
        "Посчитать, сколько слушателей получили 0 за вступительный экзамен."
      ]
    },
    {
      "cell_type": "code",
      "metadata": {
        "id": "ny-bpAn_gFAI",
        "colab": {
          "base_uri": "https://localhost:8080/"
        },
        "outputId": "9c4109dc-1775-4cbd-aa79-54bf3d0809f1"
      },
      "source": [
        "(scores==0).sum()"
      ],
      "execution_count": 4,
      "outputs": [
        {
          "output_type": "execute_result",
          "data": {
            "text/plain": [
              "13"
            ]
          },
          "metadata": {},
          "execution_count": 4
        }
      ]
    },
    {
      "cell_type": "markdown",
      "metadata": {
        "id": "zqXOMBPCgFAL"
      },
      "source": [
        "### Задание 2\n",
        "\n",
        "Посчитать, сколько слушателей получили балл выше 50."
      ]
    },
    {
      "cell_type": "code",
      "metadata": {
        "id": "mUD76BUigFAL",
        "colab": {
          "base_uri": "https://localhost:8080/"
        },
        "outputId": "dc9349e0-d1a7-445c-f429-b73c216d9202"
      },
      "source": [
        "(scores > 50).sum()"
      ],
      "execution_count": 5,
      "outputs": [
        {
          "output_type": "execute_result",
          "data": {
            "text/plain": [
              "64"
            ]
          },
          "metadata": {},
          "execution_count": 5
        }
      ]
    },
    {
      "cell_type": "markdown",
      "metadata": {
        "id": "OocnEIqdgFAN"
      },
      "source": [
        "### Задание 3\n",
        "\n",
        "Посчитать, сколько человек получили балл не ниже 50, но не выше 70."
      ]
    },
    {
      "cell_type": "code",
      "metadata": {
        "id": "RvzMz6lTgFAO",
        "colab": {
          "base_uri": "https://localhost:8080/"
        },
        "outputId": "c2bed3a9-2169-4d27-e3fa-1c257bab8a48"
      },
      "source": [
        "((scores >= 50) & (scores <= 70)).sum()"
      ],
      "execution_count": 6,
      "outputs": [
        {
          "output_type": "execute_result",
          "data": {
            "text/plain": [
              "26"
            ]
          },
          "metadata": {},
          "execution_count": 6
        }
      ]
    },
    {
      "cell_type": "markdown",
      "metadata": {
        "id": "Q9dNpdEBgFAP"
      },
      "source": [
        "### Задание 4\n",
        "\n",
        "Определить, в какой группе средний балл за вступительный экзамен выше."
      ]
    },
    {
      "cell_type": "code",
      "metadata": {
        "id": "Fto_aImFgFAQ",
        "colab": {
          "base_uri": "https://localhost:8080/"
        },
        "outputId": "7a505abc-b6bc-4aa0-e2c5-5e68a220c76f"
      },
      "source": [
        "means = np.mean(scores, axis=1)\n",
        "np.argmax(means)"
      ],
      "execution_count": 7,
      "outputs": [
        {
          "output_type": "execute_result",
          "data": {
            "text/plain": [
              "9"
            ]
          },
          "metadata": {},
          "execution_count": 7
        }
      ]
    },
    {
      "cell_type": "markdown",
      "metadata": {
        "id": "IjZUz0KkgFAR"
      },
      "source": [
        "### Задание 5\n",
        "\n",
        "Сохранить баллы слушателей выше 0 в массив `nonzero`."
      ]
    },
    {
      "cell_type": "code",
      "metadata": {
        "id": "PRViY--agFAT",
        "colab": {
          "base_uri": "https://localhost:8080/"
        },
        "outputId": "d2dc5bc1-e385-4ee2-8957-522533a5b6a3"
      },
      "source": [
        "nonzero = scores[scores > 0]\n",
        "nonzero"
      ],
      "execution_count": 8,
      "outputs": [
        {
          "output_type": "execute_result",
          "data": {
            "text/plain": [
              "array([ 20,  40,  56,  80,   5,  25,  27,  74,   1,  98,  67, 100,   8,\n",
              "        56,  34,  82, 100,   7,  78,  54,  23,  79, 100,  42,  95,  83,\n",
              "        51,  50,  47,  23, 100,  94,  25,  48,  38,  77,  90,  87,  41,\n",
              "        89,  52,   5,  17,  28,  99,  32,  18,  21,  18,  29,  31,  48,\n",
              "        62,  76,  22,   6,  65,  78,  43,  22,  38,  88,  94, 100,  77,\n",
              "        28,  39,  41,  81,  45,  54,  98,  12,  66,  88,  44,  55, 100,\n",
              "        12,  11,  17,  70,  86,  96,  56,  23,  32,  49,  70,  80,  20,\n",
              "        24,  76,  50,  29,  40,   3,   2,   5,  11,  33,  63,  28,  40,\n",
              "        51, 100,  98,  87,  22,  30,  16,  54,  78,  12,  25,  35,  10,\n",
              "        19,  67, 100,  88,  24,  33,  47,  56,  62,  34,  77,  53,  50,\n",
              "        89,  70,  72,  56,  29,  15,  20])"
            ]
          },
          "metadata": {},
          "execution_count": 8
        }
      ]
    },
    {
      "cell_type": "markdown",
      "metadata": {
        "id": "-ve1VG1XgFAV"
      },
      "source": [
        "### Задание 6\n",
        "\n",
        "Используя массив `nonzero`, определить минимальный балл за вступительный балл по всем группам."
      ]
    },
    {
      "cell_type": "code",
      "metadata": {
        "id": "ZnGg9mcUgFAV",
        "colab": {
          "base_uri": "https://localhost:8080/"
        },
        "outputId": "7434488c-b020-4ad6-9465-849d21ae3685"
      },
      "source": [
        "np.min(nonzero)"
      ],
      "execution_count": 9,
      "outputs": [
        {
          "output_type": "execute_result",
          "data": {
            "text/plain": [
              "1"
            ]
          },
          "metadata": {},
          "execution_count": 9
        }
      ]
    },
    {
      "cell_type": "markdown",
      "metadata": {
        "id": "5eaQJGatgFAZ"
      },
      "source": [
        "### Задание 7\n",
        "\n",
        "Выбрать из массива `nonzero` только те значения, которые соответствуют продвинутому уровню знания языка – баллу за экзамен выше 80. Сохранить полученный результат в массив `advanced`. В заданиях 8-10 нужно работать с массивом `advanced`."
      ]
    },
    {
      "cell_type": "code",
      "metadata": {
        "id": "nmMA59fAgFAZ",
        "colab": {
          "base_uri": "https://localhost:8080/"
        },
        "outputId": "33a1fa37-f498-4f52-9eb5-893529368fb0"
      },
      "source": [
        "advanced = nonzero[nonzero > 80]\n",
        "advanced"
      ],
      "execution_count": 10,
      "outputs": [
        {
          "output_type": "execute_result",
          "data": {
            "text/plain": [
              "array([ 98, 100,  82, 100, 100,  95,  83, 100,  94,  90,  87,  89,  99,\n",
              "        88,  94, 100,  81,  98,  88, 100,  86,  96, 100,  98,  87, 100,\n",
              "        88,  89])"
            ]
          },
          "metadata": {},
          "execution_count": 10
        }
      ]
    },
    {
      "cell_type": "markdown",
      "metadata": {
        "id": "Aq0Lf1f6gFAk"
      },
      "source": [
        "### Задание 8\n",
        "\n",
        "Определить размерность массива `advanced`."
      ]
    },
    {
      "cell_type": "code",
      "metadata": {
        "id": "m_9Wm-7xgFAl",
        "colab": {
          "base_uri": "https://localhost:8080/"
        },
        "outputId": "832c2d72-77f9-43c4-9a64-a3a4a4cf6e65"
      },
      "source": [
        "np.ndim(advanced)"
      ],
      "execution_count": 11,
      "outputs": [
        {
          "output_type": "execute_result",
          "data": {
            "text/plain": [
              "1"
            ]
          },
          "metadata": {},
          "execution_count": 11
        }
      ]
    },
    {
      "cell_type": "markdown",
      "metadata": {
        "id": "Bc_cX_EYgFAo"
      },
      "source": [
        "### Задание 9\n",
        "\n",
        "Определить форму массива `advanced`."
      ]
    },
    {
      "cell_type": "code",
      "metadata": {
        "id": "6VSwGB6fgFAp",
        "colab": {
          "base_uri": "https://localhost:8080/"
        },
        "outputId": "36a02241-6ba7-47f8-f182-4d1de1d5a1ac"
      },
      "source": [
        "np.shape(advanced)"
      ],
      "execution_count": 12,
      "outputs": [
        {
          "output_type": "execute_result",
          "data": {
            "text/plain": [
              "(28,)"
            ]
          },
          "metadata": {},
          "execution_count": 12
        }
      ]
    },
    {
      "cell_type": "markdown",
      "metadata": {
        "id": "tmheEQZ3gFAr"
      },
      "source": [
        "### Задание 10\n",
        "\n",
        "Определить общее число элементов в массиве `advanced`."
      ]
    },
    {
      "cell_type": "code",
      "metadata": {
        "id": "OvJ2oJV7gFAr",
        "colab": {
          "base_uri": "https://localhost:8080/"
        },
        "outputId": "9f4c97a2-895f-4e8a-e6a9-8daf8d2395e1"
      },
      "source": [
        "advanced.size"
      ],
      "execution_count": 13,
      "outputs": [
        {
          "output_type": "execute_result",
          "data": {
            "text/plain": [
              "28"
            ]
          },
          "metadata": {},
          "execution_count": 13
        }
      ]
    },
    {
      "cell_type": "markdown",
      "metadata": {
        "id": "rfufTemUgFAv"
      },
      "source": [
        "### Задание 11\n",
        "\n",
        "На основе исходного массива `scores` создать булев массив `sto`, где `True` соответствует баллам за экзамен, равным 100, а `False` – всем остальным баллам."
      ]
    },
    {
      "cell_type": "code",
      "metadata": {
        "id": "cXVCTZJRgFAw",
        "colab": {
          "base_uri": "https://localhost:8080/"
        },
        "outputId": "9f79c07d-72de-481a-8315-ccab9b4edbde"
      },
      "source": [
        "sto = [scores == 100]\n",
        "sto"
      ],
      "execution_count": 14,
      "outputs": [
        {
          "output_type": "execute_result",
          "data": {
            "text/plain": [
              "[array([[False, False, False, False, False, False, False, False, False,\n",
              "         False],\n",
              "        [False, False, False,  True, False, False, False, False,  True,\n",
              "         False],\n",
              "        [False, False, False, False,  True, False, False, False, False,\n",
              "         False],\n",
              "        [False, False, False, False,  True, False, False, False, False,\n",
              "         False],\n",
              "        [False, False, False, False, False, False, False, False, False,\n",
              "         False],\n",
              "        [False, False, False, False, False, False, False, False, False,\n",
              "         False],\n",
              "        [False, False, False, False, False, False, False, False, False,\n",
              "          True],\n",
              "        [False, False, False, False, False, False, False, False, False,\n",
              "         False],\n",
              "        [False, False, False, False, False, False, False,  True, False,\n",
              "         False],\n",
              "        [False, False, False, False, False, False, False, False, False,\n",
              "         False],\n",
              "        [False, False, False, False, False, False, False, False, False,\n",
              "         False],\n",
              "        [False, False, False, False, False,  True, False, False, False,\n",
              "         False],\n",
              "        [False, False, False, False, False, False, False, False, False,\n",
              "         False],\n",
              "        [ True, False, False, False, False, False, False, False, False,\n",
              "         False],\n",
              "        [False, False, False, False, False, False, False, False, False,\n",
              "         False]])]"
            ]
          },
          "metadata": {},
          "execution_count": 14
        }
      ]
    },
    {
      "cell_type": "markdown",
      "metadata": {
        "id": "GBKO0EiTgFAy"
      },
      "source": [
        "### Задание 12\n",
        "\n",
        "На основе исходного массива `scores` вывести на экран оценки слушателей первых семи групп (включительно, должны быть 7 списков оценок)."
      ]
    },
    {
      "cell_type": "code",
      "metadata": {
        "id": "5MsmBdCggFA0",
        "colab": {
          "base_uri": "https://localhost:8080/"
        },
        "outputId": "782d51b1-9da5-4472-ffc6-6cc7d4fe2343"
      },
      "source": [
        "scores[:7]"
      ],
      "execution_count": 15,
      "outputs": [
        {
          "output_type": "execute_result",
          "data": {
            "text/plain": [
              "array([[ 20,  40,  56,  80,   0,   5,  25,  27,  74,   1],\n",
              "       [  0,  98,  67, 100,   8,  56,  34,  82, 100,   7],\n",
              "       [ 78,  54,  23,  79, 100,   0,   0,  42,  95,  83],\n",
              "       [ 51,  50,  47,  23, 100,  94,  25,  48,  38,  77],\n",
              "       [ 90,  87,  41,  89,  52,   0,   5,  17,  28,  99],\n",
              "       [ 32,  18,  21,  18,  29,  31,  48,  62,  76,  22],\n",
              "       [  6,   0,  65,  78,  43,  22,  38,  88,  94, 100]])"
            ]
          },
          "metadata": {},
          "execution_count": 15
        }
      ]
    },
    {
      "cell_type": "markdown",
      "metadata": {
        "id": "5cwVuZHAgFA1"
      },
      "source": [
        ".<br> .<br> .<br> .<br> .<br> .<br> .<br> .<br> .<br> .<br> .<br> .<br> .<br> .<br> .<br> .<br> .<br> .<br>\n",
        "# Дополнительное (необязательное) задание.\n",
        "<br>\n"
      ]
    },
    {
      "cell_type": "markdown",
      "metadata": {
        "id": "NevmPbRrgFA2"
      },
      "source": [
        "В заданиях 1-2 необходимо работать с массивом `A`:"
      ]
    },
    {
      "cell_type": "code",
      "metadata": {
        "id": "b8eeE6EOgFA2"
      },
      "source": [
        "A = np.array([[2, 9, 8, 0],\n",
        "             [8, 7, 5, 6],\n",
        "             [3, 1, 0, 2],\n",
        "             [6, 5, 6, 8],\n",
        "             [1, 0, 0, 4]])"
      ],
      "execution_count": 16,
      "outputs": []
    },
    {
      "cell_type": "markdown",
      "metadata": {
        "id": "RAQ4aJhfgFA5"
      },
      "source": [
        "### Задание 1\n",
        "\n",
        "Транспонировать массив `A`, не используя встроенных методов `NumPy`. Сохранить полученный массив в переменную `A_tr`. Допустимо использовать циклы и условные конструкции (при необходимости).\n",
        "\n",
        "**Напоминание:** транспонирование – операция замены строк и столбцов местами. Пример:\n",
        "\n",
        "До транспонирования:\n",
        "\n",
        "        [[2, 5, 0],\n",
        "        [7, 8, 1]]\n",
        "\n",
        "После транспонирования:\n",
        "\n",
        "        [[2, 7],\n",
        "        [5, 8],\n",
        "        [0, 1]]\n",
        "\n",
        "**Подсказка:** можно почитать про цикл *for* на [pythontutor.ru](https://pythontutor.ru/lessons/for_loop/). На самом деле, если вспомнить про выбор элементов в массиве `NumPy`, то одного цикла будет достаточно, условные конструкции не понадобятся."
      ]
    },
    {
      "cell_type": "code",
      "metadata": {
        "id": "2HvCIIF0gFA6",
        "colab": {
          "base_uri": "https://localhost:8080/"
        },
        "outputId": "72141fd7-fac0-4c1b-de6f-8236f3690189"
      },
      "source": [
        "rows, cols = np.shape(A)\n",
        "A_tr = np.empty((cols, rows))\n",
        "\n",
        "for i in range(rows):\n",
        "  for j in range (cols):\n",
        "    A_tr[j, i] = A[i, j]\n",
        "\n",
        "A_tr"
      ],
      "execution_count": 17,
      "outputs": [
        {
          "output_type": "execute_result",
          "data": {
            "text/plain": [
              "array([[2., 8., 3., 6., 1.],\n",
              "       [9., 7., 1., 5., 0.],\n",
              "       [8., 5., 0., 6., 0.],\n",
              "       [0., 6., 2., 8., 4.]])"
            ]
          },
          "metadata": {},
          "execution_count": 17
        }
      ]
    },
    {
      "cell_type": "markdown",
      "metadata": {
        "id": "Rb0Np089gFA8"
      },
      "source": [
        "### Задание 2\n",
        "\n",
        "Сравнить результаты: проверить равенство полученного выше массива `A_tr` и массива, который получается транспонированием массива `A` с помощью метода `.T`.\n",
        "\n",
        "**Подсказка:** для сравнения массивов целиком, не поэлементно, можно использовать [функцию](https://docs.scipy.org/doc/numpy/reference/generated/numpy.array_equal.html) `array_equal()`."
      ]
    },
    {
      "cell_type": "code",
      "metadata": {
        "id": "oy3tY9Y0gFA9",
        "colab": {
          "base_uri": "https://localhost:8080/"
        },
        "outputId": "5c7bcc33-4cb7-428b-fdde-56ba80c899be"
      },
      "source": [
        "np.array_equal(A.T, A_tr)"
      ],
      "execution_count": 18,
      "outputs": [
        {
          "output_type": "execute_result",
          "data": {
            "text/plain": [
              "True"
            ]
          },
          "metadata": {},
          "execution_count": 18
        }
      ]
    },
    {
      "cell_type": "markdown",
      "metadata": {
        "id": "0GsTgRbbgFA_"
      },
      "source": [
        "### Задание 3\n",
        "\n",
        "Студент N подрабатывает репетитором по математике и ведёт занятия разных типов: готовит к ЕГЭ, к олимпиадам, «подтягивает» математику у школьников младших классов.\n",
        "\n",
        "В массиве `classes` хранится число проведённых уроков за пять рабочих дней, в массиве `prices` — стоимость одного урока (считаем, что студент за день проводит занятия одного типа, одинаковые по стоимости).\n",
        "\n",
        "Определить доход студента за неделю, используя [метод](https://docs.scipy.org/doc/numpy/reference/generated/numpy.dot.html) `.dot()` для нахождения [скалярного произведения](https://ru.wikipedia.org/wiki/%D0%A1%D0%BA%D0%B0%D0%BB%D1%8F%D1%80%D0%BD%D0%BE%D0%B5_%D0%BF%D1%80%D0%BE%D0%B8%D0%B7%D0%B2%D0%B5%D0%B4%D0%B5%D0%BD%D0%B8%D0%B5)."
      ]
    },
    {
      "cell_type": "code",
      "metadata": {
        "id": "IHm4BAzMgFA_"
      },
      "source": [
        "classes = np.array([3, 3, 2, 0, 2])\n",
        "prices = np.array([1500, 1500, 2500, 1000, 1000])"
      ],
      "execution_count": 19,
      "outputs": []
    },
    {
      "cell_type": "code",
      "metadata": {
        "id": "naNXR55mgFBD",
        "colab": {
          "base_uri": "https://localhost:8080/"
        },
        "outputId": "fd1b46c2-3e3e-4885-d26b-a252241435c2"
      },
      "source": [
        "np.dot(classes, prices)"
      ],
      "execution_count": 20,
      "outputs": [
        {
          "output_type": "execute_result",
          "data": {
            "text/plain": [
              "16000"
            ]
          },
          "metadata": {},
          "execution_count": 20
        }
      ]
    },
    {
      "cell_type": "markdown",
      "metadata": {
        "id": "pVhH4MrAgFBH"
      },
      "source": [
        "### Задание 4\n",
        "\n",
        "По результатам работы с данными по оценкам за эссе студентов, поставленным двумя разными экспертами, были созданы два булевых массива `expert1` и `expert2`, в которых значение `True` означает оценку «удовлетворительно» и выше, а значение `False` – неудовлетворительно. Всего было оценено 15 эссе, по 5 эссе на каждую из трёх тем."
      ]
    },
    {
      "cell_type": "code",
      "metadata": {
        "id": "XvKTyCPsgFBH"
      },
      "source": [
        "expert1 = np.array([[True, False, False, True, True],\n",
        "                   [False, True, False, False, True],\n",
        "                   [True, True, True, False, False]])\n",
        "expert2 = np.array([[True, False, False, False, True],\n",
        "                   [False, False, False, False, False],\n",
        "                   [True, False, True, False, False]])"
      ],
      "execution_count": 21,
      "outputs": []
    },
    {
      "cell_type": "code",
      "metadata": {
        "id": "_ItTN6kugFBI",
        "colab": {
          "base_uri": "https://localhost:8080/"
        },
        "outputId": "4edf1e81-0012-47a9-d027-ecdaaa591071"
      },
      "source": [
        "pass_exam = np.sum([expert1 & expert2])\n",
        "pass_exam"
      ],
      "execution_count": 22,
      "outputs": [
        {
          "output_type": "execute_result",
          "data": {
            "text/plain": [
              "4"
            ]
          },
          "metadata": {},
          "execution_count": 22
        }
      ]
    },
    {
      "cell_type": "markdown",
      "metadata": {
        "id": "Pu9yicVpgFBL"
      },
      "source": [
        "Определить, используя различные логические операторы (`|`, `&`, и проч.) и вспомогательные методы/функции, сколько студентов получат зачёт, если известно, что для этого необходимо получить оценку не ниже удовлетворительной у обоих экспертов."
      ]
    },
    {
      "cell_type": "markdown",
      "metadata": {
        "id": "SNjTSYadgFBM"
      },
      "source": [
        "### Задание 5\n",
        "\n",
        "Дан массив `essay` с итоговыми оценками студентов за эссе из задачи 4:"
      ]
    },
    {
      "cell_type": "code",
      "metadata": {
        "id": "m-0uuLMsgFBN"
      },
      "source": [
        "# pass - сдал\n",
        "# not pass - не сдал\n",
        "\n",
        "essay = np.array([[\"pass\", \"not pass\", \"not pass\", \"not pass\", \"pass\"],\n",
        "        [\"not pass\", \"not pass\", \"not pass\", \"not pass\", \"not pass\"],\n",
        "        [\"pass\", \"not pass\", \"pass\", \"not pass\", \"not pass\"]])"
      ],
      "execution_count": 23,
      "outputs": []
    },
    {
      "cell_type": "markdown",
      "metadata": {
        "id": "ods6NVgWgFBO"
      },
      "source": [
        "Проверить ответ в предыдущей задаче, используя массив `essay`. Решение должно быть представлено в виде кода, не в виде выводов в результате явного подсчёта элементов."
      ]
    },
    {
      "cell_type": "code",
      "metadata": {
        "id": "VrnzKwKfgFBO",
        "colab": {
          "base_uri": "https://localhost:8080/"
        },
        "outputId": "f7347a9c-ea19-4603-fcb8-695fd301c4b0"
      },
      "source": [
        "pass_exam == np.sum(essay==\"pass\")"
      ],
      "execution_count": 24,
      "outputs": [
        {
          "output_type": "execute_result",
          "data": {
            "text/plain": [
              "True"
            ]
          },
          "metadata": {},
          "execution_count": 24
        }
      ]
    },
    {
      "cell_type": "markdown",
      "metadata": {
        "id": "O4WRS6GagFBQ"
      },
      "source": [
        "### Задание 6\n",
        "\n",
        "Используя массивы `expert1` и `expert2` из задачи 4, определить согласованность двух экспертов, используя меру близости Жаккара, которая вычисляется следующим образом:\n",
        "\n",
        "$$\n",
        "J(A, B) = \\frac{|A \\cap B|}{|A| + |B| - |A \\cap B|}\n",
        ",$$\n",
        "\n",
        "где $A$ – первое множество, $B$ – второе множество, $A \\cap B$ – пересечение множеств, т.е. их общие элементы. Запись $|A|$ означает «количество элементов в множестве».\n",
        "\n",
        "В качестве множеств $A$ и $B$ в данной задаче выступают множества (группы) студентов, которые получили зачёт у первого и второго экспертов."
      ]
    },
    {
      "cell_type": "code",
      "metadata": {
        "id": "uxsA-5kGgFBQ",
        "colab": {
          "base_uri": "https://localhost:8080/"
        },
        "outputId": "84bedae4-9dbf-487c-90c3-e2a3a402b1d6"
      },
      "source": [
        "np.sum(np.logical_and(expert1, expert2))/(np.sum(expert1) + np.sum(expert2) - np.sum(np.logical_and(expert1, expert2)))"
      ],
      "execution_count": 27,
      "outputs": [
        {
          "output_type": "execute_result",
          "data": {
            "text/plain": [
              "0.5"
            ]
          },
          "metadata": {},
          "execution_count": 27
        }
      ]
    }
  ]
}