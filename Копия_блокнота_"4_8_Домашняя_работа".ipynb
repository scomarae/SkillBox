{
  "nbformat": 4,
  "nbformat_minor": 0,
  "metadata": {
    "celltoolbar": "Slideshow",
    "kernelspec": {
      "display_name": "Python 3",
      "language": "python",
      "name": "python3"
    },
    "language_info": {
      "codemirror_mode": {
        "name": "ipython",
        "version": 3
      },
      "file_extension": ".py",
      "mimetype": "text/x-python",
      "name": "python",
      "nbconvert_exporter": "python",
      "pygments_lexer": "ipython3",
      "version": "3.6.3"
    },
    "colab": {
      "provenance": [],
      "include_colab_link": true
    }
  },
  "cells": [
    {
      "cell_type": "markdown",
      "metadata": {
        "id": "view-in-github",
        "colab_type": "text"
      },
      "source": [
        "<a href=\"https://colab.research.google.com/github/scomarae/SkillBox/blob/main/%D0%9A%D0%BE%D0%BF%D0%B8%D1%8F_%D0%B1%D0%BB%D0%BE%D0%BA%D0%BD%D0%BE%D1%82%D0%B0_%224_8_%D0%94%D0%BE%D0%BC%D0%B0%D1%88%D0%BD%D1%8F%D1%8F_%D1%80%D0%B0%D0%B1%D0%BE%D1%82%D0%B0%22.ipynb\" target=\"_parent\"><img src=\"https://colab.research.google.com/assets/colab-badge.svg\" alt=\"Open In Colab\"/></a>"
      ]
    },
    {
      "cell_type": "markdown",
      "metadata": {
        "id": "90H1_YdZMMbo"
      },
      "source": [
        "### Домашняя работа\n",
        "\n",
        "**Задание среднего уровня** Примените градиентный спуск к задаче прогнозирования цен на недвижимость в Бостоне. Какого качества на валидации удалось достичь по r2-score? Сколько итераций  понадобилось?"
      ]
    },
    {
      "cell_type": "code",
      "metadata": {
        "id": "0q8EbVXRMMbp"
      },
      "source": [
        "from sklearn.datasets import fetch_california_housing\n",
        "housing = fetch_california_housing()\n",
        "from sklearn.model_selection import train_test_split\n",
        "from sklearn.preprocessing import StandardScaler\n",
        "\n",
        "X = housing.data\n",
        "y = housing.target\n",
        "\n",
        "\n",
        "scaler = StandardScaler()\n",
        "\n",
        "X_transformed = scaler.fit_transform(X)\n",
        "X_train, X_valid, y_train, y_valid = train_test_split(X_transformed, y, test_size=0.2, random_state=10)"
      ],
      "execution_count": 10,
      "outputs": []
    },
    {
      "cell_type": "code",
      "source": [
        "import numpy as np\n",
        "import pandas as pd\n",
        "import matplotlib.pyplot as plt\n",
        "\n",
        "from sklearn.linear_model import SGDRegressor\n",
        "from sklearn.metrics import r2_score\n",
        "from scipy.spatial import distance\n",
        "\n",
        "%matplotlib inline"
      ],
      "metadata": {
        "id": "eBfeRiXPkkhF"
      },
      "execution_count": 11,
      "outputs": []
    },
    {
      "cell_type": "code",
      "source": [],
      "metadata": {
        "id": "22wrI3Pu9ck5"
      },
      "execution_count": null,
      "outputs": []
    },
    {
      "cell_type": "code",
      "source": [
        "sgd_regressor = SGDRegressor(random_state=42) #класс линейнеой регрессии с шагом 0.009\n",
        "w_current = np.random.random(1) #сюда будем записывать текущие значения весов\n",
        "epsilon = 0.0001 #ошибка к которой мы стремимся\n",
        "\n",
        "weight_evolution, r2_evolution = [], [] #списки изменений весов и ошибок\n",
        "\n",
        "for step in list(range(1000)): #кол-во итераций\n",
        "    # print(w_current)\n",
        "    sgd_regressor = sgd_regressor.partial_fit(X_train, y_train) # итерация градиентного спуска\n",
        "    weight_evolution.append(distance.euclidean(w_current, sgd_regressor.coef_)) # записываем изменение весов (евклидова дистанция между точками)\n",
        "    if weight_evolution[-1]<epsilon: #если последний элемент в списке изменений весов меньше ошибки к которой мы стремимся\n",
        "        print(f\"Итерации остановлены на шаге {step} с r2-score {r2_evolution[-1]}\"); break #останаваливаем итерации, выводим номер шага на котором это произошло\n",
        "    r2_evolution.append(r2_score(y_valid, sgd_regressor.predict(X_valid))) #иначе добавляем MSE в список\n",
        "    w_current = sgd_regressor.coef_.copy() #и перезаписываем текущее значение весов\n",
        "plt.plot(range(len(r2_evolution)), r2_evolution) #строим график ошибок"
      ],
      "metadata": {
        "colab": {
          "base_uri": "https://localhost:8080/",
          "height": 466
        },
        "id": "gNltKYTVktHZ",
        "outputId": "c1a5340f-6426-49b9-ced7-370014ffec85"
      },
      "execution_count": 14,
      "outputs": [
        {
          "output_type": "stream",
          "name": "stdout",
          "text": [
            "Итерации остановлены на шаге 173 с r2-score 0.596536804159783\n"
          ]
        },
        {
          "output_type": "execute_result",
          "data": {
            "text/plain": [
              "[<matplotlib.lines.Line2D at 0x7bd2960289d0>]"
            ]
          },
          "metadata": {},
          "execution_count": 14
        },
        {
          "output_type": "display_data",
          "data": {
            "text/plain": [
              "<Figure size 640x480 with 1 Axes>"
            ],
            "image/png": "[encoded data removed]"
          },
          "metadata": {}
        }
      ]
    },
    {
      "cell_type": "code",
      "source": [],
      "metadata": {
        "id": "UgOtWIJstxFf"
      },
      "execution_count": null,
      "outputs": []
    }
  ]
}