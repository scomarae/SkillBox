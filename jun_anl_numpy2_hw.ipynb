{
  "cells": [
    {
      "cell_type": "markdown",
      "metadata": {
        "id": "view-in-github",
        "colab_type": "text"
      },
      "source": [
        "<a href=\"https://colab.research.google.com/github/scomarae/SkillBox/blob/main/jun_anl_numpy2_hw.ipynb\" target=\"_parent\"><img src=\"https://colab.research.google.com/assets/colab-badge.svg\" alt=\"Open In Colab\"/></a>"
      ]
    },
    {
      "cell_type": "markdown",
      "metadata": {
        "id": "VtxRMDF3ZL4H"
      },
      "source": [
        "# Библиотека `NumPy`: часть 2\n",
        "\n",
        "*Алла Тамбовцева*\n",
        "\n",
        "## Домашнее задание\n",
        "\n",
        "### Описание домашнего задания и формат сдачи\n",
        "\n",
        "В домашнем задании необходимо решить предложенные задачи по программированию – вписать свой код в ячейки после условий задач вместо комментария `### YOUR CODE HERE ###` в файле *homework-numpy2.ipynb* и сохранить изменения, используя опцию *Save and Checkpoint* из вкладки меню *File* или кнопку *Save and Checkpoint* на панели инструментов. Итоговый файл в формате `.ipynb` (файл Jupyter Notebook) необходимо загрузить в личный кабинет обучающей онлайн платформы Skillbox (https://go.skillbox.ru/) и отправить на проверку."
      ]
    },
    {
      "cell_type": "code",
      "source": [
        "import numpy as np"
      ],
      "metadata": {
        "id": "1gShXF6QZXKQ"
      },
      "execution_count": null,
      "outputs": []
    },
    {
      "cell_type": "markdown",
      "metadata": {
        "id": "tyYtG_sAZL4J"
      },
      "source": [
        "### Задание 1\n",
        "Загрузить из файла `array_hw.npy` массив и сохранить его как `arr`. Массив содержит объёмы продаж мороженого (в штуках) в 5 магазинах за одну неделю в июне (7 дней, с понедельника до воскресенья). В заданиях 2-5 нужно работать с массивом `arr`."
      ]
    },
    {
      "cell_type": "code",
      "execution_count": null,
      "metadata": {
        "colab": {
          "base_uri": "https://localhost:8080/"
        },
        "id": "oySWkemiZL4K",
        "outputId": "f5d795ce-58b7-4793-8e43-8ddcdbbeb913"
      },
      "outputs": [
        {
          "output_type": "execute_result",
          "data": {
            "text/plain": [
              "array([[100,  80,  70,  60, 120],\n",
              "       [ 65,  55,  20,  50,  60],\n",
              "       [ 80,  90,  75,  80,  60],\n",
              "       [ 45,  60,  70,  20,  40],\n",
              "       [ 82,  47,  56,  89,  92],\n",
              "       [115, 120, 113, 106, 107],\n",
              "       [ 46,  74,  23,  34,  19]])"
            ]
          },
          "metadata": {},
          "execution_count": 4
        }
      ],
      "source": [
        "\n",
        "arr = np.load(\"/content/drive/MyDrive/array_hw.npy\")\n",
        "arr"
      ]
    },
    {
      "cell_type": "markdown",
      "metadata": {
        "id": "q3r7u5mBZL4L"
      },
      "source": [
        "### Задание 2\n",
        "Если думать о массиве `arr` как о таблице, сейчас в таблице магазины идут по столбцам (1 магазин = 1 столбец, всего 5), а дни – по строкам (1 день = 1 строка, всего 7). Преобразовать массив `arr` таким образом, чтобы по строкам шли магазины, а по столбцам – дни (1 строка = 1 магазин). Сохранить изменения. Проверить, что форма массива изменилась."
      ]
    },
    {
      "cell_type": "code",
      "execution_count": null,
      "metadata": {
        "colab": {
          "base_uri": "https://localhost:8080/"
        },
        "id": "8_oB6yjqZL4L",
        "outputId": "020d6f5b-0b60-4f44-c660-bf0ae278c52b"
      },
      "outputs": [
        {
          "output_type": "execute_result",
          "data": {
            "text/plain": [
              "array([[100,  65,  80,  45,  82, 115,  46],\n",
              "       [ 80,  55,  90,  60,  47, 120,  74],\n",
              "       [ 70,  20,  75,  70,  56, 113,  23],\n",
              "       [ 60,  50,  80,  20,  89, 106,  34],\n",
              "       [120,  60,  60,  40,  92, 107,  19]])"
            ]
          },
          "metadata": {},
          "execution_count": 7
        }
      ],
      "source": [
        "arr = arr.transpose()\n",
        "arr"
      ]
    },
    {
      "cell_type": "markdown",
      "metadata": {
        "id": "rl4yZ6iDZL4L"
      },
      "source": [
        "### Задание 3\n",
        "\n",
        "Давайте представим, что информация по продажам обновилась: оказалось, что пятый магазин в воскресенье продал не 19 порций мороженого, а 25, и второй магазин продал во вторник не 55 порций, а 65. Изменить массив `arr` в соответствии с этой информацией."
      ]
    },
    {
      "cell_type": "code",
      "execution_count": null,
      "metadata": {
        "colab": {
          "base_uri": "https://localhost:8080/"
        },
        "id": "gO7Mg4SuZL4L",
        "outputId": "92234b15-d430-4130-d91e-f9f777935d98"
      },
      "outputs": [
        {
          "output_type": "execute_result",
          "data": {
            "text/plain": [
              "array([[100,  65,  80,  45,  82, 115,  46],\n",
              "       [ 80,  65,  90,  60,  47, 120,  74],\n",
              "       [ 70,  20,  75,  70,  56, 113,  23],\n",
              "       [ 60,  50,  80,  20,  89, 106,  34],\n",
              "       [120,  60,  60,  40,  92, 107,  25]])"
            ]
          },
          "metadata": {},
          "execution_count": 8
        }
      ],
      "source": [
        "arr[4][6] = 25\n",
        "arr[1][1] = 65\n",
        "arr"
      ]
    },
    {
      "cell_type": "markdown",
      "metadata": {
        "id": "2DP6m2PsZL4M"
      },
      "source": [
        "### Задание 4\n",
        "\n",
        "Посчитать суммарный объём продаж мороженого по всем магазинам."
      ]
    },
    {
      "cell_type": "code",
      "execution_count": null,
      "metadata": {
        "colab": {
          "base_uri": "https://localhost:8080/"
        },
        "id": "ZUMHzbZNZL4M",
        "outputId": "8ed4bba6-1430-4c60-becc-af09aede9f95"
      },
      "outputs": [
        {
          "output_type": "execute_result",
          "data": {
            "text/plain": [
              "2439"
            ]
          },
          "metadata": {},
          "execution_count": 9
        }
      ],
      "source": [
        "np.sum(arr)"
      ]
    },
    {
      "cell_type": "markdown",
      "metadata": {
        "id": "bbhaDHyQZL4M"
      },
      "source": [
        "### Задание 5\n",
        "\n",
        "Выгрузить обновлённый массив `arr` в txt-файл. Сам txt-файл загружать в систему не нужно, только написать соответствующий код в ipynb-файл."
      ]
    },
    {
      "cell_type": "code",
      "execution_count": null,
      "metadata": {
        "id": "UHTJv6FmZL4M"
      },
      "outputs": [],
      "source": [
        "np.savetxt(\"icecream.txt\", arr)"
      ]
    },
    {
      "cell_type": "markdown",
      "metadata": {
        "id": "FR3gNWiVZL4N"
      },
      "source": [
        "### Задание 6\n",
        "Дан массив `income`, содержащий значения прибыли магазина в тысячах на начало, середину и конец года, за четыре года подряд (значения никак не сгруппированы, можно считать, что они так выгрузились из файла).\n",
        "Изменить форму массива так, чтобы значения были сгруппированы по три значения в каждом списке внутри массива (прибыль на начало, середину и конец года)."
      ]
    },
    {
      "cell_type": "code",
      "execution_count": null,
      "metadata": {
        "id": "g4xkpy5_ZL4N"
      },
      "outputs": [],
      "source": [
        "# массив\n",
        "income = np.array([1000, 2000, 3500,\n",
        "                   2500, 1500, 3800,\n",
        "                   1200, 9000, 12000,\n",
        "                   4500, 6700, 11000])"
      ]
    },
    {
      "cell_type": "code",
      "execution_count": null,
      "metadata": {
        "colab": {
          "base_uri": "https://localhost:8080/"
        },
        "id": "U1LaJLlVZL4N",
        "outputId": "26cdacdc-75c0-4332-b73b-a4c0e7013906"
      },
      "outputs": [
        {
          "output_type": "execute_result",
          "data": {
            "text/plain": [
              "array([[ 1000,  2000,  3500],\n",
              "       [ 2500,  1500,  3800],\n",
              "       [ 1200,  9000, 12000],\n",
              "       [ 4500,  6700, 11000]])"
            ]
          },
          "metadata": {},
          "execution_count": 18
        }
      ],
      "source": [
        "income = np.reshape(income, (4, 3)) # можно еще -1 использовать для автоматического определения кол-ва строк\n",
        "income"
      ]
    },
    {
      "cell_type": "markdown",
      "metadata": {
        "id": "TxQpXCAPZL4N"
      },
      "source": [
        "### Задание 7\n",
        "Создать список `turnout` (*list*, не массив), содержащий следующие значения явки на избирательные участки в процентах:\n",
        "\n",
        "23.56, 45.78, 34.92, 57.34, 56.55, 67.23.\n",
        "\n",
        "Создать, используя списковые включения и встроенные, не из `NumPy`, функции для округления, новый список `turnout_r`, который состоит из округлённых до первого знака после запятой значений явки из `turnout`."
      ]
    },
    {
      "cell_type": "code",
      "execution_count": null,
      "metadata": {
        "colab": {
          "base_uri": "https://localhost:8080/"
        },
        "id": "tfbw7j1ZZL4N",
        "outputId": "29bb79d8-adba-4292-aaf9-d11841921d27"
      },
      "outputs": [
        {
          "output_type": "execute_result",
          "data": {
            "text/plain": [
              "[23.6, 45.8, 34.9, 57.3, 56.5, 67.2]"
            ]
          },
          "metadata": {},
          "execution_count": 20
        }
      ],
      "source": [
        "turnout = [23.56, 45.78, 34.92, 57.34, 56.55, 67.23]\n",
        "turnout_r = [round(x, 1) for x in turnout]\n",
        "turnout_r"
      ]
    },
    {
      "cell_type": "markdown",
      "metadata": {
        "id": "oFdVDT3ZZL4N"
      },
      "source": [
        "### Задание 8\n",
        "Выполнить те же операции, что и в предыдущей задаче, но с использованием массивов и функций `NumPy`. Другими словами, создать массив `turnout` и на его основе создать массив `turnout_r` с округлёнными до первого знака значениями явки."
      ]
    },
    {
      "cell_type": "code",
      "execution_count": null,
      "metadata": {
        "colab": {
          "base_uri": "https://localhost:8080/"
        },
        "id": "opyYR8QBZL4O",
        "outputId": "aa8a536a-f268-4244-f3ae-a7670882ac7a"
      },
      "outputs": [
        {
          "output_type": "execute_result",
          "data": {
            "text/plain": [
              "array([23.6, 45.8, 34.9, 57.3, 56.6, 67.2])"
            ]
          },
          "metadata": {},
          "execution_count": 21
        }
      ],
      "source": [
        "turnout = np.array([23.56, 45.78, 34.92, 57.34, 56.55, 67.23])\n",
        "turnout_r = np.round(turnout, 1)\n",
        "turnout_r"
      ]
    },
    {
      "cell_type": "markdown",
      "metadata": {
        "id": "GKh37WT-ZL4O"
      },
      "source": [
        "### Задание 9\n",
        "\n",
        "Зайдите на [страницу](https://ru.wikipedia.org/wiki/%D0%9C%D0%B5%D0%B6%D0%B4%D1%83%D0%BD%D0%B0%D1%80%D0%BE%D0%B4%D0%BD%D1%8B%D0%B9_%D0%B8%D0%BD%D0%B4%D0%B5%D0%BA%D1%81_%D1%81%D1%87%D0%B0%D1%81%D1%82%D1%8C%D1%8F) Википедии, посвящённую Международному индексу счастья, выберите из таблицы **2012 Международный индекс счастья** любые 5 стран и любые 3 показателя и создайте структурированный массив `happy`, такой, в котором есть поле «название страны» и поля для трёх выбранных показателей. Выберите подходящий тип для каждого поля (показателя) в массиве и учтите это при создание структурированного массива. Выведите полученный массив на экран."
      ]
    },
    {
      "cell_type": "code",
      "execution_count": 23,
      "metadata": {
        "id": "p1T0d0QJZL4O",
        "colab": {
          "base_uri": "https://localhost:8080/"
        },
        "outputId": "db4d7744-7020-494f-f001-e20eb4a66175"
      },
      "outputs": [
        {
          "output_type": "stream",
          "name": "stdout",
          "text": [
            "[('Коста-Рика', 64. , 2.5) ('Вьетнам', 60.4, 1.4) ('Колумбия', 59.8, 1.8)\n",
            " ('Белиз', 59.3, 2.1) ('Сальвадор', 58.9, 2. )]\n"
          ]
        }
      ],
      "source": [
        "happy = np.array([('Коста-Рика', 64, 2.5),('Вьетнам', 60.4, 1.4),\n",
        " ('Колумбия', 59.8, 1.8),('Белиз', 59.3, 2.1),('Сальвадор', 58.9, 2)],\n",
        "                 dtype=[('country', 'U10'),('hpi', float),('eco_fp', float)])\n",
        "print(happy)"
      ]
    },
    {
      "cell_type": "markdown",
      "metadata": {
        "id": "zsGWZQtQZL4O"
      },
      "source": [
        "### Задание 10\n",
        "Сконвертируйте полученный в предыдущей задаче структурированный массив в обычный список и выведите на экран его второй элемент."
      ]
    },
    {
      "cell_type": "code",
      "execution_count": 25,
      "metadata": {
        "id": "dlX6FR3hZL4O",
        "colab": {
          "base_uri": "https://localhost:8080/"
        },
        "outputId": "d0684804-e09b-4c01-e1fb-41ac4fb5c253"
      },
      "outputs": [
        {
          "output_type": "execute_result",
          "data": {
            "text/plain": [
              "('Вьетнам', 60.4, 1.4)"
            ]
          },
          "metadata": {},
          "execution_count": 25
        }
      ],
      "source": [
        "country_list = [x for x in happy] # в такой список или плоский?\n",
        "country_list[1]"
      ]
    },
    {
      "cell_type": "markdown",
      "metadata": {
        "id": "9pgOSjpyZL4O"
      },
      "source": [
        ".<br> .<br> .<br> .<br> .<br> .<br> .<br> .<br> .<br> .<br> .<br> .<br> .<br> .<br> .<br> .<br> .<br> .<br>\n",
        "# Дополнительное (необязательное) задание.\n",
        "<br>"
      ]
    },
    {
      "cell_type": "markdown",
      "metadata": {
        "id": "uplaYklo0zrv"
      },
      "source": [
        "### Задание 1\n",
        "\n",
        "Написать функцию `build_array()`, которая принимает на вход размерность квадратной матрицы (двумерного массива, в котором число строк и число столбцов совпадают) и создаёт единичную матрицу `E` (массив) соответствующей размерности. Использовать готовую функцию `np.eye()` нельзя, можно использовать циклы и условные конструкции.\n",
        "\n",
        "**Пример:**\n",
        "\n",
        "Ввод:\n",
        "\n",
        "    build_array(4)\n",
        "\n",
        "Вывод:\n",
        "\n",
        "    array([[1., 0., 0., 0.],\n",
        "       [0., 1., 0., 0.],\n",
        "       [0., 0., 1., 0.],\n",
        "       [0., 0., 0., 1.]])\n",
        "       \n",
        "**Подсказка:** про циклы, условные конструкции, функции и двумерные массивы можно почитать в соответствующих разделах pythontutor.ru: [цикл for](http://pythontutor.ru/lessons/for_loop/), [условия](http://pythontutor.ru/lessons/ifelse/), [функции](http://pythontutor.ru/lessons/functions/) и [массивы](http://pythontutor.ru/lessons/2d_arrays/)."
      ]
    },
    {
      "cell_type": "code",
      "execution_count": 48,
      "metadata": {
        "id": "saSGBa2N0zrw",
        "colab": {
          "base_uri": "https://localhost:8080/"
        },
        "outputId": "d04e8ba3-e1bd-4d5b-c3d9-2e87d1b5accd"
      },
      "outputs": [
        {
          "output_type": "execute_result",
          "data": {
            "text/plain": [
              "array([[1., 0., 0., 0., 0.],\n",
              "       [0., 1., 0., 0., 0.],\n",
              "       [0., 0., 1., 0., 0.],\n",
              "       [0., 0., 0., 1., 0.],\n",
              "       [0., 0., 0., 0., 1.]])"
            ]
          },
          "metadata": {},
          "execution_count": 48
        }
      ],
      "source": [
        "def build_array(shape):\n",
        "  arr = np.zeros((shape, shape))\n",
        "  o = 0\n",
        "  for i in range(shape):\n",
        "    for j in range(shape):\n",
        "      if j == o:\n",
        "        arr[i][j] = 1\n",
        "    o += 1\n",
        "  return arr\n",
        "\n",
        "build_array(5)\n"
      ]
    },
    {
      "cell_type": "markdown",
      "metadata": {
        "id": "jgutn2Sj0zr1"
      },
      "source": [
        "### Задание 2\n",
        "\n",
        "Напишите функцию `my_reshape()`, которая принимает на вход массив и его новую размерность (пару чисел), и:\n",
        "\n",
        "* если указанные измерения корректны, то возвращает массив новой размерности;\n",
        "* если указанные измерения некорректны, то возвращает пустой массив (пример: из массива 2×5 нельзя сделать новый массив 4×3, потому что в старом массиве 10 элементов, а в новом – 12).\n",
        "\n",
        "**Пример:**\n",
        "\n",
        "Ввод:\n",
        "\n",
        "    A = np.array([[2, 4, 6],\n",
        "            [4, 8, 10]])\n",
        "\n",
        "    my_reshape(A, 6, 1)\n",
        "\n",
        "Вывод:\n",
        "\n",
        "    array([[2],\n",
        "       [4],\n",
        "       [6],\n",
        "       [4],\n",
        "       [8],\n",
        "       [10]])\n",
        "\n",
        "Ввод:\n",
        "\n",
        "    A = np.array([[2, 4, 6],\n",
        "            [4, 8, 10]])\n",
        "\n",
        "    my_reshape(A, 4, 2)\n",
        "\n",
        "Вывод:\n",
        "\n",
        "    array([])\n",
        "\n",
        "**Примечание:** результаты в выводе могут визуально отличаться (выводиться без переносов по строкам, с указанием типа данных), это нормально, примеры модифицированы для читаемости.\n",
        "\n",
        "**Подсказка:** см. материалы, предложенные в задаче 1."
      ]
    },
    {
      "cell_type": "code",
      "execution_count": 65,
      "metadata": {
        "id": "BARsZ6SU0zr1",
        "colab": {
          "base_uri": "https://localhost:8080/"
        },
        "outputId": "5847554c-c425-4edb-9c02-ad15d54ca1b8"
      },
      "outputs": [
        {
          "output_type": "execute_result",
          "data": {
            "text/plain": [
              "array([[ 2.,  4.],\n",
              "       [ 6.,  4.],\n",
              "       [ 8., 10.]])"
            ]
          },
          "metadata": {},
          "execution_count": 65
        }
      ],
      "source": [
        "def my_reshape(arr, x, y):\n",
        "  if arr.shape[0]*arr.shape[1] != x*y:\n",
        "    return np.array([])\n",
        "  else:\n",
        "    arr = arr.flatten()\n",
        "    new_arr = np.zeros((x, y))\n",
        "    z = 0\n",
        "    for i in range(x):\n",
        "      row = []\n",
        "      for j in range(y):\n",
        "        row.append(arr[z])\n",
        "        z += 1\n",
        "      new_arr[i] = row\n",
        "  return new_arr\n",
        "\n",
        "\n",
        "A = np.array([[2, 4, 6],\n",
        "        [4, 8, 10]])\n",
        "\n",
        "my_reshape(A, 3, 2)"
      ]
    }
  ],
  "metadata": {
    "kernelspec": {
      "display_name": "Python 3",
      "language": "python",
      "name": "python3"
    },
    "language_info": {
      "codemirror_mode": {
        "name": "ipython",
        "version": 3
      },
      "file_extension": ".py",
      "mimetype": "text/x-python",
      "name": "python",
      "nbconvert_exporter": "python",
      "pygments_lexer": "ipython3",
      "version": "3.6.3"
    },
    "colab": {
      "provenance": [],
      "include_colab_link": true
    }
  },
  "nbformat": 4,
  "nbformat_minor": 0
}