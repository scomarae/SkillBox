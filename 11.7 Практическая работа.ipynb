{
  "nbformat": 4,
  "nbformat_minor": 0,
  "metadata": {
    "colab": {
      "provenance": [],
      "authorship_tag": "ABX9TyMK8I/T6jlQZ/n7VazWIxhZ",
      "include_colab_link": true
    },
    "kernelspec": {
      "name": "python3",
      "display_name": "Python 3"
    },
    "language_info": {
      "name": "python"
    }
  },
  "cells": [
    {
      "cell_type": "markdown",
      "metadata": {
        "id": "view-in-github",
        "colab_type": "text"
      },
      "source": [
        "<a href=\"https://colab.research.google.com/github/scomarae/SkillBox/blob/main/11.7%20%D0%9F%D1%80%D0%B0%D0%BA%D1%82%D0%B8%D1%87%D0%B5%D1%81%D0%BA%D0%B0%D1%8F%20%D1%80%D0%B0%D0%B1%D0%BE%D1%82%D0%B0.ipynb\" target=\"_parent\"><img src=\"https://colab.research.google.com/assets/colab-badge.svg\" alt=\"Open In Colab\"/></a>"
      ]
    },
    {
      "cell_type": "code",
      "execution_count": 1,
      "metadata": {
        "id": "5bxb_ysk2qEt"
      },
      "outputs": [],
      "source": [
        "from sympy import *"
      ]
    },
    {
      "cell_type": "markdown",
      "source": [
        "Задание 1. Метод обратных матриц\n",
        "\n",
        "а)"
      ],
      "metadata": {
        "id": "Nq3pvsmO6MDL"
      }
    },
    {
      "cell_type": "markdown",
      "source": [
        "1."
      ],
      "metadata": {
        "id": "lh5N6rN77l9g"
      }
    },
    {
      "cell_type": "code",
      "source": [
        "X = Matrix([[2, 3],\n",
        "            [0, 1]])\n",
        "X"
      ],
      "metadata": {
        "colab": {
          "base_uri": "https://localhost:8080/",
          "height": 58
        },
        "id": "MzQBqWDh4aqk",
        "outputId": "87b30510-2d4f-45ec-c1b1-f08ffd90b43c"
      },
      "execution_count": 4,
      "outputs": [
        {
          "output_type": "execute_result",
          "data": {
            "text/plain": [
              "Matrix([\n",
              "[2, 3],\n",
              "[0, 1]])"
            ],
            "text/latex": "$\\displaystyle \\left[\\begin{matrix}2 & 3\\\\0 & 1\\end{matrix}\\right]$"
          },
          "metadata": {},
          "execution_count": 4
        }
      ]
    },
    {
      "cell_type": "code",
      "source": [
        "b = Matrix([2, 4])\n",
        "b"
      ],
      "metadata": {
        "colab": {
          "base_uri": "https://localhost:8080/",
          "height": 58
        },
        "id": "6wSNSRft4giz",
        "outputId": "cd948d76-f85f-4a5a-e651-d8930285f2e1"
      },
      "execution_count": 5,
      "outputs": [
        {
          "output_type": "execute_result",
          "data": {
            "text/plain": [
              "Matrix([\n",
              "[2],\n",
              "[4]])"
            ],
            "text/latex": "$\\displaystyle \\left[\\begin{matrix}2\\\\4\\end{matrix}\\right]$"
          },
          "metadata": {},
          "execution_count": 5
        }
      ]
    },
    {
      "cell_type": "code",
      "source": [
        "d = X.det()\n",
        "d"
      ],
      "metadata": {
        "colab": {
          "base_uri": "https://localhost:8080/",
          "height": 38
        },
        "id": "m2UnJYxc4pnL",
        "outputId": "7ee5b6ce-5984-4e2e-cbfc-49110be03e2a"
      },
      "execution_count": 8,
      "outputs": [
        {
          "output_type": "execute_result",
          "data": {
            "text/plain": [
              "2"
            ],
            "text/latex": "$\\displaystyle 2$"
          },
          "metadata": {},
          "execution_count": 8
        }
      ]
    },
    {
      "cell_type": "code",
      "source": [
        "x = X**(-1)\n",
        "x"
      ],
      "metadata": {
        "colab": {
          "base_uri": "https://localhost:8080/",
          "height": 58
        },
        "id": "BV-IL2qO4uBE",
        "outputId": "d9152294-739e-463b-b08c-3ac573e7f5fa"
      },
      "execution_count": 9,
      "outputs": [
        {
          "output_type": "execute_result",
          "data": {
            "text/plain": [
              "Matrix([\n",
              "[1/2, -3/2],\n",
              "[  0,    1]])"
            ],
            "text/latex": "$\\displaystyle \\left[\\begin{matrix}\\frac{1}{2} & - \\frac{3}{2}\\\\0 & 1\\end{matrix}\\right]$"
          },
          "metadata": {},
          "execution_count": 9
        }
      ]
    },
    {
      "cell_type": "code",
      "source": [
        "answer = x*b\n",
        "answer"
      ],
      "metadata": {
        "colab": {
          "base_uri": "https://localhost:8080/",
          "height": 58
        },
        "id": "dOUaVH1v54HD",
        "outputId": "2348026a-08c8-441b-ffc4-a70513c5a145"
      },
      "execution_count": 11,
      "outputs": [
        {
          "output_type": "execute_result",
          "data": {
            "text/plain": [
              "Matrix([\n",
              "[-5],\n",
              "[ 4]])"
            ],
            "text/latex": "$\\displaystyle \\left[\\begin{matrix}-5\\\\4\\end{matrix}\\right]$"
          },
          "metadata": {},
          "execution_count": 11
        }
      ]
    },
    {
      "cell_type": "code",
      "source": [
        "X*answer == b # проверка"
      ],
      "metadata": {
        "colab": {
          "base_uri": "https://localhost:8080/"
        },
        "id": "bZ02C1Az6B5T",
        "outputId": "90277b6a-de29-45d8-d01d-f3e2683a61d0"
      },
      "execution_count": 22,
      "outputs": [
        {
          "output_type": "execute_result",
          "data": {
            "text/plain": [
              "True"
            ]
          },
          "metadata": {},
          "execution_count": 22
        }
      ]
    },
    {
      "cell_type": "markdown",
      "source": [
        "2."
      ],
      "metadata": {
        "id": "FFFM66Rk6T-A"
      }
    },
    {
      "cell_type": "code",
      "source": [
        "X = Matrix([[1, 5],\n",
        "            [0, 3]])\n",
        "X"
      ],
      "metadata": {
        "colab": {
          "base_uri": "https://localhost:8080/",
          "height": 58
        },
        "id": "yQFrFLse6ITN",
        "outputId": "3c1501cf-6b1d-4dad-a9c1-51b26df9665b"
      },
      "execution_count": 14,
      "outputs": [
        {
          "output_type": "execute_result",
          "data": {
            "text/plain": [
              "Matrix([\n",
              "[1, 5],\n",
              "[0, 3]])"
            ],
            "text/latex": "$\\displaystyle \\left[\\begin{matrix}1 & 5\\\\0 & 3\\end{matrix}\\right]$"
          },
          "metadata": {},
          "execution_count": 14
        }
      ]
    },
    {
      "cell_type": "code",
      "source": [
        "b = Matrix([3, 9])\n",
        "b"
      ],
      "metadata": {
        "colab": {
          "base_uri": "https://localhost:8080/",
          "height": 58
        },
        "id": "BZ1l20bO7HqP",
        "outputId": "7a151354-aa11-4356-cab8-adafd395bac1"
      },
      "execution_count": 17,
      "outputs": [
        {
          "output_type": "execute_result",
          "data": {
            "text/plain": [
              "Matrix([\n",
              "[3],\n",
              "[9]])"
            ],
            "text/latex": "$\\displaystyle \\left[\\begin{matrix}3\\\\9\\end{matrix}\\right]$"
          },
          "metadata": {},
          "execution_count": 17
        }
      ]
    },
    {
      "cell_type": "code",
      "source": [
        "det = X.det()\n",
        "det"
      ],
      "metadata": {
        "colab": {
          "base_uri": "https://localhost:8080/",
          "height": 38
        },
        "id": "lXa_2KBV7M0v",
        "outputId": "3b0a15ab-3afa-4dc0-e3cc-162292cf70b3"
      },
      "execution_count": 18,
      "outputs": [
        {
          "output_type": "execute_result",
          "data": {
            "text/plain": [
              "3"
            ],
            "text/latex": "$\\displaystyle 3$"
          },
          "metadata": {},
          "execution_count": 18
        }
      ]
    },
    {
      "cell_type": "code",
      "source": [
        "x = X**(-1)\n",
        "x"
      ],
      "metadata": {
        "colab": {
          "base_uri": "https://localhost:8080/",
          "height": 58
        },
        "id": "m0mlN0K77Qe2",
        "outputId": "9d37c3db-2d71-4c26-a0da-f64e7c94f46a"
      },
      "execution_count": 19,
      "outputs": [
        {
          "output_type": "execute_result",
          "data": {
            "text/plain": [
              "Matrix([\n",
              "[1, -5/3],\n",
              "[0,  1/3]])"
            ],
            "text/latex": "$\\displaystyle \\left[\\begin{matrix}1 & - \\frac{5}{3}\\\\0 & \\frac{1}{3}\\end{matrix}\\right]$"
          },
          "metadata": {},
          "execution_count": 19
        }
      ]
    },
    {
      "cell_type": "code",
      "source": [
        "answer = x*b\n",
        "answer"
      ],
      "metadata": {
        "colab": {
          "base_uri": "https://localhost:8080/",
          "height": 58
        },
        "id": "Z9wSOi4-7Vv2",
        "outputId": "03dc84a8-e1de-4ca4-cda8-2a8573b81e62"
      },
      "execution_count": 20,
      "outputs": [
        {
          "output_type": "execute_result",
          "data": {
            "text/plain": [
              "Matrix([\n",
              "[-12],\n",
              "[  3]])"
            ],
            "text/latex": "$\\displaystyle \\left[\\begin{matrix}-12\\\\3\\end{matrix}\\right]$"
          },
          "metadata": {},
          "execution_count": 20
        }
      ]
    },
    {
      "cell_type": "code",
      "source": [
        "# проверка\n",
        "X*answer == b"
      ],
      "metadata": {
        "colab": {
          "base_uri": "https://localhost:8080/"
        },
        "id": "gNN0C4vG7ay-",
        "outputId": "b260045c-ea3a-4bf1-98b5-0ac9d36b822f"
      },
      "execution_count": 23,
      "outputs": [
        {
          "output_type": "execute_result",
          "data": {
            "text/plain": [
              "True"
            ]
          },
          "metadata": {},
          "execution_count": 23
        }
      ]
    },
    {
      "cell_type": "markdown",
      "source": [
        "б)"
      ],
      "metadata": {
        "id": "gOyJ83Vt7qWf"
      }
    },
    {
      "cell_type": "markdown",
      "source": [
        "1."
      ],
      "metadata": {
        "id": "Cs9NK1-D7tFp"
      }
    },
    {
      "cell_type": "code",
      "source": [
        "X = Matrix([[2, 3, -1],\n",
        "            [0, 1, 1],\n",
        "            [1, -1, 2]])\n",
        "X"
      ],
      "metadata": {
        "colab": {
          "base_uri": "https://localhost:8080/",
          "height": 78
        },
        "id": "QDDN76J77efV",
        "outputId": "bc7b2aa5-db00-4d89-ed2a-76d05f66fdcb"
      },
      "execution_count": 25,
      "outputs": [
        {
          "output_type": "execute_result",
          "data": {
            "text/plain": [
              "Matrix([\n",
              "[2,  3, -1],\n",
              "[0,  1,  1],\n",
              "[1, -1,  2]])"
            ],
            "text/latex": "$\\displaystyle \\left[\\begin{matrix}2 & 3 & -1\\\\0 & 1 & 1\\\\1 & -1 & 2\\end{matrix}\\right]$"
          },
          "metadata": {},
          "execution_count": 25
        }
      ]
    },
    {
      "cell_type": "code",
      "source": [
        "b = Matrix([2, 4, 6])\n",
        "b"
      ],
      "metadata": {
        "colab": {
          "base_uri": "https://localhost:8080/",
          "height": 78
        },
        "id": "HqH9QiKWAbwz",
        "outputId": "51fe3eb6-b72a-4c85-e528-a449bd1f6e3f"
      },
      "execution_count": 27,
      "outputs": [
        {
          "output_type": "execute_result",
          "data": {
            "text/plain": [
              "Matrix([\n",
              "[2],\n",
              "[4],\n",
              "[6]])"
            ],
            "text/latex": "$\\displaystyle \\left[\\begin{matrix}2\\\\4\\\\6\\end{matrix}\\right]$"
          },
          "metadata": {},
          "execution_count": 27
        }
      ]
    },
    {
      "cell_type": "code",
      "source": [
        "det = X.det()\n",
        "det"
      ],
      "metadata": {
        "colab": {
          "base_uri": "https://localhost:8080/",
          "height": 38
        },
        "id": "INVKZtLfAhVj",
        "outputId": "98193241-d119-4076-862e-4dd05419b89c"
      },
      "execution_count": 29,
      "outputs": [
        {
          "output_type": "execute_result",
          "data": {
            "text/plain": [
              "10"
            ],
            "text/latex": "$\\displaystyle 10$"
          },
          "metadata": {},
          "execution_count": 29
        }
      ]
    },
    {
      "cell_type": "code",
      "source": [
        "x = X**(-1)\n",
        "x"
      ],
      "metadata": {
        "colab": {
          "base_uri": "https://localhost:8080/",
          "height": 78
        },
        "id": "v_Wa96CaAk3T",
        "outputId": "c5d41a28-7e5a-4256-eda4-2d1ba714e69d"
      },
      "execution_count": 30,
      "outputs": [
        {
          "output_type": "execute_result",
          "data": {
            "text/plain": [
              "Matrix([\n",
              "[ 3/10, -1/2,  2/5],\n",
              "[ 1/10,  1/2, -1/5],\n",
              "[-1/10,  1/2,  1/5]])"
            ],
            "text/latex": "$\\displaystyle \\left[\\begin{matrix}\\frac{3}{10} & - \\frac{1}{2} & \\frac{2}{5}\\\\\\frac{1}{10} & \\frac{1}{2} & - \\frac{1}{5}\\\\- \\frac{1}{10} & \\frac{1}{2} & \\frac{1}{5}\\end{matrix}\\right]$"
          },
          "metadata": {},
          "execution_count": 30
        }
      ]
    },
    {
      "cell_type": "code",
      "source": [
        "ans = x*b\n",
        "ans"
      ],
      "metadata": {
        "colab": {
          "base_uri": "https://localhost:8080/",
          "height": 78
        },
        "id": "IUzqGZkoAqDr",
        "outputId": "a8dedd15-0979-4bd6-9417-8f9ce81c0c89"
      },
      "execution_count": 31,
      "outputs": [
        {
          "output_type": "execute_result",
          "data": {
            "text/plain": [
              "Matrix([\n",
              "[1],\n",
              "[1],\n",
              "[3]])"
            ],
            "text/latex": "$\\displaystyle \\left[\\begin{matrix}1\\\\1\\\\3\\end{matrix}\\right]$"
          },
          "metadata": {},
          "execution_count": 31
        }
      ]
    },
    {
      "cell_type": "code",
      "source": [
        "X*ans == b"
      ],
      "metadata": {
        "colab": {
          "base_uri": "https://localhost:8080/"
        },
        "id": "q83h3rKwAscb",
        "outputId": "56ac5f60-c84e-469c-99f3-b055dbac3cbc"
      },
      "execution_count": 32,
      "outputs": [
        {
          "output_type": "execute_result",
          "data": {
            "text/plain": [
              "True"
            ]
          },
          "metadata": {},
          "execution_count": 32
        }
      ]
    },
    {
      "cell_type": "markdown",
      "source": [
        "2."
      ],
      "metadata": {
        "id": "Np3kAK5eAwYT"
      }
    },
    {
      "cell_type": "code",
      "source": [
        "X = Matrix([[1, 5, -2],\n",
        "            [0, 3, 1],\n",
        "            [-4, -6, 2]])\n",
        "X"
      ],
      "metadata": {
        "colab": {
          "base_uri": "https://localhost:8080/",
          "height": 78
        },
        "id": "42JvfuULAvYM",
        "outputId": "7bd30414-b701-4f83-d872-91cf1ec57a5b"
      },
      "execution_count": 33,
      "outputs": [
        {
          "output_type": "execute_result",
          "data": {
            "text/plain": [
              "Matrix([\n",
              "[ 1,  5, -2],\n",
              "[ 0,  3,  1],\n",
              "[-4, -6,  2]])"
            ],
            "text/latex": "$\\displaystyle \\left[\\begin{matrix}1 & 5 & -2\\\\0 & 3 & 1\\\\-4 & -6 & 2\\end{matrix}\\right]$"
          },
          "metadata": {},
          "execution_count": 33
        }
      ]
    },
    {
      "cell_type": "code",
      "source": [
        "b = Matrix([8, 16, 32])\n",
        "b"
      ],
      "metadata": {
        "colab": {
          "base_uri": "https://localhost:8080/",
          "height": 78
        },
        "id": "DKfkJlncA4bF",
        "outputId": "4dfa0402-4370-44e4-a436-d695e05aa7d7"
      },
      "execution_count": 34,
      "outputs": [
        {
          "output_type": "execute_result",
          "data": {
            "text/plain": [
              "Matrix([\n",
              "[ 8],\n",
              "[16],\n",
              "[32]])"
            ],
            "text/latex": "$\\displaystyle \\left[\\begin{matrix}8\\\\16\\\\32\\end{matrix}\\right]$"
          },
          "metadata": {},
          "execution_count": 34
        }
      ]
    },
    {
      "cell_type": "code",
      "source": [
        "det = X.det()\n",
        "det"
      ],
      "metadata": {
        "colab": {
          "base_uri": "https://localhost:8080/",
          "height": 38
        },
        "id": "8Wb-DbyjA7jc",
        "outputId": "0b2c2928-5d16-4111-9bcd-05544bc95ad5"
      },
      "execution_count": 36,
      "outputs": [
        {
          "output_type": "execute_result",
          "data": {
            "text/plain": [
              "-32"
            ],
            "text/latex": "$\\displaystyle -32$"
          },
          "metadata": {},
          "execution_count": 36
        }
      ]
    },
    {
      "cell_type": "code",
      "source": [
        "x = X**(-1)\n",
        "x"
      ],
      "metadata": {
        "colab": {
          "base_uri": "https://localhost:8080/",
          "height": 78
        },
        "id": "a0ZNCh4HA9t8",
        "outputId": "49127ef0-19b5-4192-d36f-56bbfc1db227"
      },
      "execution_count": 37,
      "outputs": [
        {
          "output_type": "execute_result",
          "data": {
            "text/plain": [
              "Matrix([\n",
              "[-3/8, -1/16, -11/32],\n",
              "[ 1/8,  3/16,   1/32],\n",
              "[-3/8,  7/16,  -3/32]])"
            ],
            "text/latex": "$\\displaystyle \\left[\\begin{matrix}- \\frac{3}{8} & - \\frac{1}{16} & - \\frac{11}{32}\\\\\\frac{1}{8} & \\frac{3}{16} & \\frac{1}{32}\\\\- \\frac{3}{8} & \\frac{7}{16} & - \\frac{3}{32}\\end{matrix}\\right]$"
          },
          "metadata": {},
          "execution_count": 37
        }
      ]
    },
    {
      "cell_type": "code",
      "source": [
        "ans = x*b\n",
        "ans"
      ],
      "metadata": {
        "colab": {
          "base_uri": "https://localhost:8080/",
          "height": 78
        },
        "id": "hZYJPqhVBCIG",
        "outputId": "e7cb9c50-4aa9-4807-bed1-ada19de4a162"
      },
      "execution_count": 38,
      "outputs": [
        {
          "output_type": "execute_result",
          "data": {
            "text/plain": [
              "Matrix([\n",
              "[-15],\n",
              "[  5],\n",
              "[  1]])"
            ],
            "text/latex": "$\\displaystyle \\left[\\begin{matrix}-15\\\\5\\\\1\\end{matrix}\\right]$"
          },
          "metadata": {},
          "execution_count": 38
        }
      ]
    },
    {
      "cell_type": "code",
      "source": [
        "X*ans == b"
      ],
      "metadata": {
        "colab": {
          "base_uri": "https://localhost:8080/"
        },
        "id": "qK4dEr1xBEjm",
        "outputId": "c7f69862-78bb-48c8-8626-12e2db33b956"
      },
      "execution_count": 39,
      "outputs": [
        {
          "output_type": "execute_result",
          "data": {
            "text/plain": [
              "True"
            ]
          },
          "metadata": {},
          "execution_count": 39
        }
      ]
    },
    {
      "cell_type": "markdown",
      "source": [
        "Задание 2. Псевдообратная матрица"
      ],
      "metadata": {
        "id": "EsSnswChBH8U"
      }
    },
    {
      "cell_type": "code",
      "source": [
        "X = Matrix([[1, 2],\n",
        "            [5, 3],\n",
        "            [2, 4],\n",
        "            [3, 7]])\n",
        "X"
      ],
      "metadata": {
        "colab": {
          "base_uri": "https://localhost:8080/",
          "height": 99
        },
        "id": "dbljNncNGl0t",
        "outputId": "7d39665e-592d-4f0f-fda4-bd244ca2d260"
      },
      "execution_count": 41,
      "outputs": [
        {
          "output_type": "execute_result",
          "data": {
            "text/plain": [
              "Matrix([\n",
              "[1, 2],\n",
              "[5, 3],\n",
              "[2, 4],\n",
              "[3, 7]])"
            ],
            "text/latex": "$\\displaystyle \\left[\\begin{matrix}1 & 2\\\\5 & 3\\\\2 & 4\\\\3 & 7\\end{matrix}\\right]$"
          },
          "metadata": {},
          "execution_count": 41
        }
      ]
    },
    {
      "cell_type": "code",
      "source": [
        "b = Matrix([5, 6, 10, 8])\n",
        "b"
      ],
      "metadata": {
        "colab": {
          "base_uri": "https://localhost:8080/",
          "height": 99
        },
        "id": "GTixvVErG4Eh",
        "outputId": "7f3c4f04-bd85-4f56-f5d8-c16f499c5e36"
      },
      "execution_count": 43,
      "outputs": [
        {
          "output_type": "execute_result",
          "data": {
            "text/plain": [
              "Matrix([\n",
              "[ 5],\n",
              "[ 6],\n",
              "[10],\n",
              "[ 8]])"
            ],
            "text/latex": "$\\displaystyle \\left[\\begin{matrix}5\\\\6\\\\10\\\\8\\end{matrix}\\right]$"
          },
          "metadata": {},
          "execution_count": 43
        }
      ]
    },
    {
      "cell_type": "code",
      "source": [
        "XT = X.T\n",
        "XT"
      ],
      "metadata": {
        "colab": {
          "base_uri": "https://localhost:8080/",
          "height": 58
        },
        "id": "M6p1sNYXG8JR",
        "outputId": "f9e08b04-0a2d-4e8c-b054-58abb242a33c"
      },
      "execution_count": 46,
      "outputs": [
        {
          "output_type": "execute_result",
          "data": {
            "text/plain": [
              "Matrix([\n",
              "[1, 5, 2, 3],\n",
              "[2, 3, 4, 7]])"
            ],
            "text/latex": "$\\displaystyle \\left[\\begin{matrix}1 & 5 & 2 & 3\\\\2 & 3 & 4 & 7\\end{matrix}\\right]$"
          },
          "metadata": {},
          "execution_count": 46
        }
      ]
    },
    {
      "cell_type": "code",
      "source": [
        "mul = XT*X\n",
        "mul"
      ],
      "metadata": {
        "colab": {
          "base_uri": "https://localhost:8080/",
          "height": 58
        },
        "id": "4uLyrFfgHKwI",
        "outputId": "03bff6ab-4b22-47f2-c20e-2bce280637ba"
      },
      "execution_count": 48,
      "outputs": [
        {
          "output_type": "execute_result",
          "data": {
            "text/plain": [
              "Matrix([\n",
              "[39, 46],\n",
              "[46, 78]])"
            ],
            "text/latex": "$\\displaystyle \\left[\\begin{matrix}39 & 46\\\\46 & 78\\end{matrix}\\right]$"
          },
          "metadata": {},
          "execution_count": 48
        }
      ]
    },
    {
      "cell_type": "code",
      "source": [
        "det = mul.det()\n",
        "det"
      ],
      "metadata": {
        "colab": {
          "base_uri": "https://localhost:8080/",
          "height": 38
        },
        "id": "zlQfmTIFHMro",
        "outputId": "5a43f803-3da5-4412-99f7-31981085e86b"
      },
      "execution_count": 50,
      "outputs": [
        {
          "output_type": "execute_result",
          "data": {
            "text/plain": [
              "926"
            ],
            "text/latex": "$\\displaystyle 926$"
          },
          "metadata": {},
          "execution_count": 50
        }
      ]
    },
    {
      "cell_type": "code",
      "source": [
        "m = mul**(-1)\n",
        "m"
      ],
      "metadata": {
        "colab": {
          "base_uri": "https://localhost:8080/",
          "height": 58
        },
        "id": "GxQ20ruMHRip",
        "outputId": "1642be2c-df9d-4309-fb69-7897908bd6b9"
      },
      "execution_count": 52,
      "outputs": [
        {
          "output_type": "execute_result",
          "data": {
            "text/plain": [
              "Matrix([\n",
              "[ 39/463, -23/463],\n",
              "[-23/463,  39/926]])"
            ],
            "text/latex": "$\\displaystyle \\left[\\begin{matrix}\\frac{39}{463} & - \\frac{23}{463}\\\\- \\frac{23}{463} & \\frac{39}{926}\\end{matrix}\\right]$"
          },
          "metadata": {},
          "execution_count": 52
        }
      ]
    },
    {
      "cell_type": "code",
      "source": [
        "X_pseudo_inverse = m * XT\n",
        "X_pseudo_inverse"
      ],
      "metadata": {
        "colab": {
          "base_uri": "https://localhost:8080/",
          "height": 58
        },
        "id": "-buJHktJHVWx",
        "outputId": "168610ee-38ab-45cf-f913-9cee58e33a82"
      },
      "execution_count": 56,
      "outputs": [
        {
          "output_type": "execute_result",
          "data": {
            "text/plain": [
              "Matrix([\n",
              "[-7/463,  126/463, -14/463, -44/463],\n",
              "[16/463, -113/926,  32/463, 135/926]])"
            ],
            "text/latex": "$\\displaystyle \\left[\\begin{matrix}- \\frac{7}{463} & \\frac{126}{463} & - \\frac{14}{463} & - \\frac{44}{463}\\\\\\frac{16}{463} & - \\frac{113}{926} & \\frac{32}{463} & \\frac{135}{926}\\end{matrix}\\right]$"
          },
          "metadata": {},
          "execution_count": 56
        }
      ]
    },
    {
      "cell_type": "code",
      "source": [
        "best_point = X_pseudo_inverse * b\n",
        "best_point"
      ],
      "metadata": {
        "colab": {
          "base_uri": "https://localhost:8080/",
          "height": 58
        },
        "id": "4rbv4O39IQiz",
        "outputId": "513f89bc-f5e8-4bad-ba32-d5a8cd1e0b19"
      },
      "execution_count": 57,
      "outputs": [
        {
          "output_type": "execute_result",
          "data": {
            "text/plain": [
              "Matrix([\n",
              "[229/463],\n",
              "[601/463]])"
            ],
            "text/latex": "$\\displaystyle \\left[\\begin{matrix}\\frac{229}{463}\\\\\\frac{601}{463}\\end{matrix}\\right]$"
          },
          "metadata": {},
          "execution_count": 57
        }
      ]
    },
    {
      "cell_type": "code",
      "source": [
        "a1, a2 = symbols('a1, a2')\n",
        "\n",
        "MSE = 1 / 4 * ((1 * a1 + 2 * a2 - 5)**2 + \\\n",
        "               (5 * a1 + 3 * a2 - 6)**2 + \\\n",
        "               (2 * a1 + 4 * a2 - 10)**2 + \\\n",
        "               (3 * a1 + 7 * a2 - 8)**2)\n",
        "MSE.subs({a1: 229/463, a2: 601/463})"
      ],
      "metadata": {
        "colab": {
          "base_uri": "https://localhost:8080/",
          "height": 38
        },
        "id": "Bx6J-eM9IeMs",
        "outputId": "50e23e32-7f9d-4084-9dae-b84d17e030c8"
      },
      "execution_count": 58,
      "outputs": [
        {
          "output_type": "execute_result",
          "data": {
            "text/plain": [
              "6.24190064794816"
            ],
            "text/latex": "$\\displaystyle 6.24190064794816$"
          },
          "metadata": {},
          "execution_count": 58
        }
      ]
    },
    {
      "cell_type": "code",
      "source": [],
      "metadata": {
        "id": "qdasaP4nIvX1"
      },
      "execution_count": null,
      "outputs": []
    }
  ]
}